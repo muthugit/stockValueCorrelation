{
 "cells": [
  {
   "cell_type": "code",
   "execution_count": 114,
   "metadata": {
    "collapsed": true
   },
   "outputs": [],
   "source": [
    "#INITIALIZATION\n",
    "import pandas as p\n",
    "import numpy as n\n",
    "from array import array"
   ]
  },
  {
   "cell_type": "code",
   "execution_count": 115,
   "metadata": {
    "collapsed": true
   },
   "outputs": [],
   "source": [
    "#CONFIGURATIONS\n",
    "dateColumnTitle='Date'\n",
    "dateFormatInFile='%d-%b-%Y'"
   ]
  },
  {
   "cell_type": "code",
   "execution_count": null,
   "metadata": {
    "collapsed": true
   },
   "outputs": [],
   "source": [
    "#INPUT DATA\n",
    "fromDate='2016-04-02'\n",
    "toDate='2017-07-30'\n",
    "requiredCorrelation=\"BHAGERIA|BODALCHEM\"\n",
    "targetColumn='Close Price'"
   ]
  },
  {
   "cell_type": "code",
   "execution_count": 116,
   "metadata": {
    "collapsed": true
   },
   "outputs": [],
   "source": [
    "#METHOD TO LOAD THE FILE WITH DATE FILTER\n",
    "def loadData(fileName):\n",
    "    print(fileName)\n",
    "    data=p.read_csv(fileName)\n",
    "    data[dateColumnTitle]=(p.to_datetime(data[dateColumnTitle], format=dateFormatInFile))\n",
    "    data=data[data[dateColumnTitle] > fromDate]\n",
    "    data=data[data[dateColumnTitle] < toDate]\n",
    "    return data"
   ]
  },
  {
   "cell_type": "code",
   "execution_count": 117,
   "metadata": {
    "collapsed": false
   },
   "outputs": [
    {
     "name": "stdout",
     "output_type": "stream",
     "text": [
      "BHAGERIA\n",
      "BODALCHEM\n"
     ]
    }
   ],
   "source": [
    "dataframe_collection={}\n",
    "correlationInput={}\n",
    "iteration=0\n",
    "for required in requiredCorrelation.split(\"|\"): \n",
    "    dataframe_collection[iteration]=(loadData(required))\n",
    "    correlationInput[iteration]=dataframe_collection[iteration][targetColumn]\n",
    "    iteration += 1\n"
   ]
  },
  {
   "cell_type": "code",
   "execution_count": 118,
   "metadata": {
    "collapsed": false,
    "scrolled": true
   },
   "outputs": [
    {
     "name": "stdout",
     "output_type": "stream",
     "text": [
      "[[ 1.          0.53349586]\n",
      " [ 0.53349586  1.        ]]\n"
     ]
    }
   ],
   "source": [
    "print(n.corrcoef(correlationInput[0],correlationInput[1]))"
   ]
  },
  {
   "cell_type": "code",
   "execution_count": null,
   "metadata": {
    "collapsed": true
   },
   "outputs": [],
   "source": []
  }
 ],
 "metadata": {
  "kernelspec": {
   "display_name": "Python 3",
   "language": "python",
   "name": "python3"
  },
  "language_info": {
   "codemirror_mode": {
    "name": "ipython",
    "version": 3
   },
   "file_extension": ".py",
   "mimetype": "text/x-python",
   "name": "python",
   "nbconvert_exporter": "python",
   "pygments_lexer": "ipython3",
   "version": "3.5.2"
  }
 },
 "nbformat": 4,
 "nbformat_minor": 2
}
